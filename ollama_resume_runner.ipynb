{
 "cells": [
  {
   "cell_type": "markdown",
   "metadata": {},
   "source": [
    "### Resume parser with LLM [llama 3.2 - 3b] via Ollama"
   ]
  },
  {
   "cell_type": "code",
   "execution_count": 1,
   "metadata": {},
   "outputs": [],
   "source": [
    "# pdf loader for loading / reading the resume\n",
    "\n",
    "from langchain_community.document_loaders import PyMuPDFLoader"
   ]
  },
  {
   "cell_type": "code",
   "execution_count": 3,
   "metadata": {},
   "outputs": [],
   "source": [
    "pdf_loader = PyMuPDFLoader('resume_folder\\Mahikshith_final_pow-1.pdf')\n",
    "ans = pdf_loader.load()"
   ]
  },
  {
   "cell_type": "code",
   "execution_count": 4,
   "metadata": {},
   "outputs": [
    {
     "name": "stdout",
     "output_type": "stream",
     "text": [
      "Mahikshith\n",
      "+91-6303423352\n",
      "mahikshith97@gmail.com\n",
      "SKILLS\n",
      "•\n",
      "Python, SQL, NumPy, Pandas, Matplotlib, Seaborn, Scikit-learn, TensorFlow, Keras, Data Analysis, Stats and Probability, Tableau, \n",
      "Hypothesis testing, Machine Learning , NLP, Time series forecasting, Flask, Docker, AWS, EC2 , ECS , SageMaker, LLM , RAG, \n",
      "MLflow, Langchain, Web scraping, ETL, CI / CD pipeline\n",
      "EXPERIENCE\n",
      "Amazon\n",
      "Reduced Order Defect Rate (ODR) by 0.27% and brand infringement claims by 9.46% monthly, enhancing operational efficiency\n",
      "through Amazon QuickSight and SQL analytics.\n",
      "Developed and implemented ETL pipelines from scratch using Python, increasing data accuracy and timeliness by 7% through\n",
      "automated ingestion and transformation processes.\n",
      "Streamlined operational efficiency with CI/CD pipelines, resulting in faster deployment cycles and improved data handling.\n",
      "Accelerated model development for large datasets with Amazon S3 and AWS SageMaker, achieving a 3% reduction in model\n",
      "response time in production.\n",
      "PROJECTS\n",
      "AWS-Deployed Predictive Loan Risk classification Model\n",
      "https://github.com/mahikshith/End-to-End-implementation-of-Loan-tap-classification\n",
      "Conducted exploratory data analysis using Python to reveal key insights and trends that informed strategic business decisions.\n",
      "Executed feature engineering to enhance model performance, boosting predictive accuracy by 12.5% for creditworthiness\n",
      "assessments using a Logistic regression model.\n",
      "Delivered actionable insights and recommendations from Data analysis and Feature engineering , driving improved business\n",
      "strategies and outcomes.\n",
      "Developed an interactive demo using Streamlit to effectively showcase model capabilities to stakeholders.\n",
      "Performed API testing in Postman with Flask API to ensure robust functionality and reliability for end-users.\n",
      "Created and published a Docker image and Established an AWS EC2 instance to host the application, ensuring reliable access and\n",
      "performance for users.\n",
      "Fine-tuned Transformer-based Text Summarization with NLP & ETL Pipeline implentation\n",
      "https://github.com/mahikshith/Transformer-Text-Summarizer-Fine-tuning-with-ETL-pipeline-and-Deployment\n",
      "Engineered and deployed an end-to-end NLP text summarization system by fine-tuning Google's Pegasus transformer model\n",
      "(568M parameters) on 16k conversations, boosting 12 % increase in ROUGE scores for enhanced dialogue summarization accuracy.\n",
      "Architected a robust MLOps ETL pipeline that automated data preprocessing and model training, reducing manual intervention by\n",
      "70% and reducing iteration time from days to hours\n",
      "Implemented memory-efficient training strategies including gradient checkpointing and mixed-precision (FP16), reducing GPU\n",
      "memory fragmentation by 20% with PyTorch for stable training on conversations up to 1024 tokens.\n",
      "Designed a comprehensive monitoring and logging system that improved issue detection speed by 65%, reducing debug time from\n",
      "hours to minutes in production.\n",
      "Containerized and deployed a FastAPI-based endpoint service using Docker, ensuring consistent performance and optimal latency\n",
      "across multiple environments.\n",
      "LLM powered E-commerce review Chatbot: AWS Deployment and API testing\n",
      "https://github.com/mahikshith/E-commerce-review-chatbot-end_to_end-AWS-deployment\n",
      "Web scraped product information, reviews, and ratings from an e-commerce site using Selenium, gathering over 10,000 data points\n",
      "for analysis.\n",
      "Executed exploratory data analysis and feature engineering, improving embedding accuracy by 23.4% for the Gemini 1.5 Pro LLM.\n",
      "Created and stored embeddings in Astra DB, enhancing data accessibility and boosting retrieval speed by 15% through cosine\n",
      "similarity,\n",
      "Developed a retriever and constructed a Langchain workflow, optimizing data processing and reducing retrieval time by 30%.\n",
      "Showcased application functionality using Streamlit, ensuring robust performance through local testing with Flask API and Postman.\n",
      "Deployed the review chatbot application on AWS EC2, enhancing security and monitoring performance through comprehensive\n",
      "public API testing.\n",
      "EDUCATION\n",
      "Scaler woolf neovarsity\n",
      "MS in Computer Science\n",
      "3.9 GPA\n",
      "Specalization in Artificial Intelligence and Machine learning\n",
      "2022 - 2024\n",
      "Mar 2021 - Jul 2022\n",
      "  Tableau\n",
      "Scaler\n",
      "LLM & AI\n",
      "Github\n",
      "Linkedin\n",
      "Data Science Associate\n",
      "\n"
     ]
    }
   ],
   "source": [
    "print(ans[0].page_content)"
   ]
  },
  {
   "cell_type": "code",
   "execution_count": null,
   "metadata": {},
   "outputs": [],
   "source": []
  }
 ],
 "metadata": {
  "kernelspec": {
   "display_name": "newinv",
   "language": "python",
   "name": "python3"
  },
  "language_info": {
   "codemirror_mode": {
    "name": "ipython",
    "version": 3
   },
   "file_extension": ".py",
   "mimetype": "text/x-python",
   "name": "python",
   "nbconvert_exporter": "python",
   "pygments_lexer": "ipython3",
   "version": "3.10.0"
  }
 },
 "nbformat": 4,
 "nbformat_minor": 2
}
